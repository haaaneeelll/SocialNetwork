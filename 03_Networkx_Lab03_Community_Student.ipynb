{
  "nbformat": 4,
  "nbformat_minor": 0,
  "metadata": {
    "colab": {
      "provenance": []
    },
    "kernelspec": {
      "name": "python3",
      "display_name": "Python 3"
    },
    "language_info": {
      "name": "python"
    }
  },
  "cells": [
    {
      "cell_type": "markdown",
      "metadata": {
        "id": "VaKocfJOkvTF"
      },
      "source": [
        "# 서울대학교 컴퓨테이셔널 방법론 부트캠프 2021\n",
        "## 사회연결망 분석 (Social Network Analysis)\n",
        "https://csssnu.github.io/method-bootcamp-2021/sna.html\n",
        "\n",
        "* 18, November, 2021 (15:00 ~ 18:00)\n",
        "* Gyuho Lee (SNU, hci+d lab. Ph.D Student)"
      ]
    },
    {
      "cell_type": "markdown",
      "metadata": {
        "id": "IUJpYp3Iahjw"
      },
      "source": [
        "# 커뮤니티 탐색"
      ]
    },
    {
      "cell_type": "code",
      "metadata": {
        "id": "a_A6KBTve_jh"
      },
      "source": [
        "from networkx.algorithms.community import greedy_modularity_communities\n",
        "import networkx as nx"
      ],
      "execution_count": null,
      "outputs": []
    },
    {
      "cell_type": "code",
      "metadata": {
        "id": "bpqH6tHcSbLz"
      },
      "source": [
        "G = nx.les_miserables_graph()"
      ],
      "execution_count": null,
      "outputs": []
    },
    {
      "cell_type": "code",
      "metadata": {
        "id": "zWhv8lDvfWNW"
      },
      "source": [
        "com = greedy_modularity_communities(G)"
      ],
      "execution_count": null,
      "outputs": []
    },
    {
      "cell_type": "code",
      "metadata": {
        "id": "U7WBpggnf0ow"
      },
      "source": [
        "[len(group) for group in com]"
      ],
      "execution_count": null,
      "outputs": []
    },
    {
      "cell_type": "code",
      "metadata": {
        "id": "7HB2tqGrgaWj"
      },
      "source": [
        "com[0]"
      ],
      "execution_count": null,
      "outputs": []
    },
    {
      "cell_type": "code",
      "metadata": {
        "id": "b4kaQ6iSgs57"
      },
      "source": [
        "import matplotlib.pyplot as plt\n",
        "position = nx.kamada_kawai_layout(G)"
      ],
      "execution_count": null,
      "outputs": []
    },
    {
      "cell_type": "code",
      "metadata": {
        "id": "hj56grhMg4dl"
      },
      "source": [
        "# 시각화로 확인해 보자\n",
        "plt.figure(figsize=(15,15))\n",
        "nx.draw_networkx(G,\n",
        "                 pos = position,\n",
        "                 nodelist = list(com[0]),\n",
        "                 edge_color = \"#e0e0eb\")\n",
        "plt.show()"
      ],
      "execution_count": null,
      "outputs": []
    },
    {
      "cell_type": "code",
      "metadata": {
        "id": "tGCAFmkpg8Ma"
      },
      "source": [
        "# 시각화로 확인해 보자\n",
        "plt.figure(figsize=(15,15))\n",
        "nx.draw_networkx(G,\n",
        "                 pos = position,\n",
        "                 nodelist = list(com[1]),\n",
        "                 edge_color = \"#e0e0eb\")\n",
        "plt.show()"
      ],
      "execution_count": null,
      "outputs": []
    },
    {
      "cell_type": "code",
      "metadata": {
        "id": "4NXlKSCchRXa"
      },
      "source": [
        "len(com) # colors = [\"#5778a4\", \"#e49444\",\"#d1615d\",\"#85b6b2\",\"#6a9f58\"]"
      ],
      "execution_count": null,
      "outputs": []
    },
    {
      "cell_type": "markdown",
      "metadata": {
        "id": "6EWoXG-51KNR"
      },
      "source": [
        "# Girvan-Newman 알고리즘"
      ]
    },
    {
      "cell_type": "code",
      "metadata": {
        "id": "E-cZroaIifcm"
      },
      "source": [
        "from networkx.algorithms.community import girvan_newman\n",
        "import networkx as nx"
      ],
      "execution_count": null,
      "outputs": []
    },
    {
      "cell_type": "code",
      "metadata": {
        "id": "Vo88XhYC1W2U"
      },
      "source": [
        "G = nx.les_miserables_graph()"
      ],
      "execution_count": null,
      "outputs": []
    },
    {
      "cell_type": "code",
      "metadata": {
        "id": "ttGudzIr1YdE"
      },
      "source": [
        "comp = girvan_newman(G)\n",
        "comp"
      ],
      "execution_count": null,
      "outputs": []
    },
    {
      "cell_type": "code",
      "metadata": {
        "id": "YBfMyqkr1c08"
      },
      "source": [
        "for communities in comp:\n",
        "  print(communities)\n",
        "  print(len(communities))"
      ],
      "execution_count": null,
      "outputs": []
    },
    {
      "cell_type": "code",
      "metadata": {
        "id": "w_9VOySt12P8"
      },
      "source": [
        "len(G.nodes)"
      ],
      "execution_count": null,
      "outputs": []
    },
    {
      "cell_type": "code",
      "metadata": {
        "id": "6RPg3ICiIHxf"
      },
      "source": [
        "for communities in comp:\n",
        "  print(communities)\n",
        "  print(len(communities))"
      ],
      "execution_count": null,
      "outputs": []
    },
    {
      "cell_type": "code",
      "metadata": {
        "id": "lqSDpg9h5Fp9"
      },
      "source": [
        "import itertools"
      ],
      "execution_count": null,
      "outputs": []
    },
    {
      "cell_type": "code",
      "metadata": {
        "id": "f7Z3VFpqTxOg"
      },
      "source": [
        "comp = girvan_newman(G)\n",
        "\n",
        "step_limit = 4\n",
        "\n",
        "for communities in itertools.islice(comp, step_limit):\n",
        "  print(len(communities))\n",
        "  for subgroup in communities:\n",
        "    print(subgroup)"
      ],
      "execution_count": null,
      "outputs": []
    },
    {
      "cell_type": "code",
      "metadata": {
        "id": "o3Ty3OO_ISJO"
      },
      "source": [
        "com = communities"
      ],
      "execution_count": null,
      "outputs": []
    },
    {
      "cell_type": "code",
      "metadata": {
        "id": "sEsqdt4xIiQI"
      },
      "source": [
        "len(com)"
      ],
      "execution_count": null,
      "outputs": []
    },
    {
      "cell_type": "markdown",
      "metadata": {
        "id": "W3CXA9hOmGej"
      },
      "source": [
        "### 연습\n",
        "* Networkx에서 제공하는 또 다른 네트워크 데이터셋인 KarateClub 네트워크를 로드한 후, 커뮤니티 분석을 수행해 보자\n",
        "  * https://en.wikipedia.org/wiki/Zachary%27s_karate_club"
      ]
    },
    {
      "cell_type": "code",
      "metadata": {
        "id": "Oh1iRLT2I0Ib"
      },
      "source": [
        "K = nx.karate_club_graph()"
      ],
      "execution_count": null,
      "outputs": []
    }
  ]
}