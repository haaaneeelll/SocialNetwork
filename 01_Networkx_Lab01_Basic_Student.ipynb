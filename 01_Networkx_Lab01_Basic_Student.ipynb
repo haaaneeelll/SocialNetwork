{
  "nbformat": 4,
  "nbformat_minor": 0,
  "metadata": {
    "colab": {
      "provenance": []
    },
    "kernelspec": {
      "name": "python3",
      "display_name": "Python 3"
    },
    "language_info": {
      "name": "python"
    }
  },
  "cells": [
    {
      "cell_type": "markdown",
      "metadata": {
        "id": "1G9wZaR6jEBM"
      },
      "source": [
        "# 서울대학교 컴퓨테이셔널 방법론 부트캠프 2021\n",
        "## 사회연결망 분석 (Social Network Analysis)\n",
        "https://csssnu.github.io/method-bootcamp-2021/sna.html\n",
        "\n",
        "* 18, November, 2021 (15:00 ~ 18:00)\n",
        "* Gyuho Lee (SNU, hci+d lab. Ph.D Student)"
      ]
    },
    {
      "cell_type": "markdown",
      "metadata": {
        "id": "OaT5YyYzEgVx"
      },
      "source": [
        "# Networkx 기본 사용법"
      ]
    },
    {
      "cell_type": "code",
      "metadata": {
        "id": "9TD6AnZhEioc"
      },
      "source": [
        "#import networkx # 이렇게 해도 되지만\n",
        "import networkx as nx # 이 쪽이 더 편리하다"
      ],
      "execution_count": null,
      "outputs": []
    },
    {
      "cell_type": "code",
      "metadata": {
        "id": "vj8Yi4z4FRhA"
      },
      "source": [
        "G = nx.Graph() # 앞으로 그래프 내용이 들어갈 '틀'을 만든다 (방향성이 없다고 가정)"
      ],
      "execution_count": null,
      "outputs": []
    },
    {
      "cell_type": "code",
      "metadata": {
        "id": "Qm_hDGqtFd15"
      },
      "source": [
        "G.add_node(\"A\")\n",
        "G.add_node(\"B\")"
      ],
      "execution_count": null,
      "outputs": []
    },
    {
      "cell_type": "code",
      "metadata": {
        "id": "RmVOED9MFf8F"
      },
      "source": [
        "nx.draw(G)"
      ],
      "execution_count": null,
      "outputs": []
    },
    {
      "cell_type": "code",
      "metadata": {
        "id": "vokQPNPvFjxI"
      },
      "source": [
        "G.add_edge(\"A\",\"B\")"
      ],
      "execution_count": null,
      "outputs": []
    },
    {
      "cell_type": "code",
      "metadata": {
        "id": "lXeiVeL5FoGY"
      },
      "source": [
        "nx.draw(G)"
      ],
      "execution_count": null,
      "outputs": []
    },
    {
      "cell_type": "code",
      "metadata": {
        "id": "4QsqNUAsFpsG"
      },
      "source": [
        "G.add_nodes_from([\"A\",\"B\",\"C\",\"D\",\"E\"])"
      ],
      "execution_count": null,
      "outputs": []
    },
    {
      "cell_type": "code",
      "metadata": {
        "id": "Qjg6IKjdFxl8"
      },
      "source": [
        "nx.draw(G)"
      ],
      "execution_count": null,
      "outputs": []
    },
    {
      "cell_type": "code",
      "metadata": {
        "id": "Yd_ZUGnmF68A"
      },
      "source": [
        "G.add_edges_from(\n",
        "    [\n",
        "    [\"B\",\"C\"],\n",
        "    [\"D\",\"F\"]\n",
        "     ]\n",
        ")"
      ],
      "execution_count": null,
      "outputs": []
    },
    {
      "cell_type": "code",
      "metadata": {
        "id": "0rTGMg1AGA6d"
      },
      "source": [
        "nx.draw(G)"
      ],
      "execution_count": null,
      "outputs": []
    },
    {
      "cell_type": "code",
      "metadata": {
        "id": "R8ManyECGFmb"
      },
      "source": [
        "nx.draw_networkx(G,\n",
        "                 with_labels=True)"
      ],
      "execution_count": null,
      "outputs": []
    },
    {
      "cell_type": "code",
      "metadata": {
        "id": "O6ax4a6PGPUf"
      },
      "source": [
        "D = nx.DiGraph()"
      ],
      "execution_count": null,
      "outputs": []
    },
    {
      "cell_type": "code",
      "metadata": {
        "id": "N7DjmQKoGVgl"
      },
      "source": [
        "D.add_edges_from(\n",
        "    [\n",
        "     [\"A\",\"B\"],\n",
        "     [\"B\",\"C\"],\n",
        "     [\"E\",\"F\"],\n",
        "     [\"C\",\"F\"]\n",
        "    ]\n",
        ")"
      ],
      "execution_count": null,
      "outputs": []
    },
    {
      "cell_type": "code",
      "metadata": {
        "id": "ZP0Rm7jEGeWD"
      },
      "source": [
        "nx.draw_networkx(D,\n",
        "                 with_labels=True)"
      ],
      "execution_count": null,
      "outputs": []
    },
    {
      "cell_type": "code",
      "metadata": {
        "id": "6mAIBl6-Gm8b"
      },
      "source": [
        "D.add_edges_from(\n",
        "    [\n",
        "     [\"A\",\"E\"],\n",
        "     [\"B\",\"E\"],\n",
        "    ]\n",
        ")"
      ],
      "execution_count": null,
      "outputs": []
    },
    {
      "cell_type": "code",
      "metadata": {
        "id": "9ggm5x0DGtdb"
      },
      "source": [
        "nx.draw_networkx(D)"
      ],
      "execution_count": null,
      "outputs": []
    },
    {
      "cell_type": "markdown",
      "metadata": {
        "id": "ud3e6TDmk-VG"
      },
      "source": [
        "# Attribution이 있는 그래프"
      ]
    },
    {
      "cell_type": "code",
      "metadata": {
        "id": "scWoka4llJhW"
      },
      "source": [
        "W = nx.Graph()\n",
        "\n",
        "W.add_edge(\"A\", \"B\", weight=1)\n",
        "W.add_edge(\"A\", \"C\", weight=2)\n",
        "W.add_edge(\"B\", \"C\", weight=3)\n",
        "W.add_edge(\"C\", \"E\", weight=2)\n",
        "W.add_edge(\"C\", \"F\", weight=1)"
      ],
      "execution_count": null,
      "outputs": []
    },
    {
      "cell_type": "code",
      "metadata": {
        "id": "Uw6I_-NJlwJV"
      },
      "source": [
        "nx.draw(W)"
      ],
      "execution_count": null,
      "outputs": []
    },
    {
      "cell_type": "code",
      "metadata": {
        "id": "2SnCCdOgnmqI"
      },
      "source": [
        "nx.to_dict_of_dicts(W)"
      ],
      "execution_count": null,
      "outputs": []
    },
    {
      "cell_type": "code",
      "metadata": {
        "id": "-HBA0uKElhwz"
      },
      "source": [
        "W['A']"
      ],
      "execution_count": null,
      "outputs": []
    },
    {
      "cell_type": "code",
      "metadata": {
        "id": "JqJvHF3fltzZ"
      },
      "source": [
        "W['A']['B']"
      ],
      "execution_count": null,
      "outputs": []
    },
    {
      "cell_type": "code",
      "metadata": {
        "id": "CNraUasnmaTh"
      },
      "source": [
        "W = nx.DiGraph()\n",
        "\n",
        "W.add_edges_from([(\"A\", \"B\"), (\"B\", \"C\")], weight=1)\n",
        "W.add_edges_from([(\"C\", \"D\"), (\"D\", \"E\")], weight=2)\n",
        "W.add_edges_from([(\"A\", \"E\"), (\"B\", \"E\")], weight=3)\n",
        "W.add_edges_from([(\"E\", \"F\"), (\"C\", \"F\")], weight=2)"
      ],
      "execution_count": null,
      "outputs": []
    },
    {
      "cell_type": "code",
      "metadata": {
        "id": "1r7YIww-mtEb"
      },
      "source": [
        "W['A']"
      ],
      "execution_count": null,
      "outputs": []
    },
    {
      "cell_type": "code",
      "metadata": {
        "id": "roSZh9tRm8aJ"
      },
      "source": [
        "W['A']['B']"
      ],
      "execution_count": null,
      "outputs": []
    },
    {
      "cell_type": "code",
      "metadata": {
        "id": "VFJAKvmtm9ZP"
      },
      "source": [
        "nx.draw(W)"
      ],
      "execution_count": null,
      "outputs": []
    },
    {
      "cell_type": "markdown",
      "metadata": {
        "id": "5Be3NYv5wJwN"
      },
      "source": [
        "# 최대 연결 / 밀도\n",
        "\n",
        "* 작성된 그래프 객체 G,D,W의 세부 속성을 확인해 보자"
      ]
    },
    {
      "cell_type": "code",
      "metadata": {
        "id": "Ms3lGWrwwV4r"
      },
      "source": [
        "print(nx.density(G))\n",
        "print(nx.density(D))\n",
        "print(nx.density(W))"
      ],
      "execution_count": null,
      "outputs": []
    },
    {
      "cell_type": "code",
      "metadata": {
        "id": "mNPI45PBwk_m"
      },
      "source": [
        "# 슬라이드를 참조해 보자\n",
        "print((2* len(G.edges)) / (len(G.nodes) * (len(G.nodes) -1 )))\n",
        "print((len(D.edges)) / (len(D.nodes) * (len(D.nodes) -1 )))\n",
        "print((len(W.edges)) / (len(W.nodes) * (len(W.nodes) -1 )))"
      ],
      "execution_count": null,
      "outputs": []
    },
    {
      "cell_type": "markdown",
      "metadata": {
        "id": "DghcEwgvG1Lp"
      },
      "source": [
        "# 데이터 변환/저장/불러오기"
      ]
    },
    {
      "cell_type": "code",
      "metadata": {
        "id": "rJX7tCtcGwyH"
      },
      "source": [
        "nx.to_pandas_adjacency(G)"
      ],
      "execution_count": null,
      "outputs": []
    },
    {
      "cell_type": "code",
      "metadata": {
        "id": "5bHbNzURHDp9"
      },
      "source": [
        "nx.to_pandas_adjacency(D)"
      ],
      "execution_count": null,
      "outputs": []
    },
    {
      "cell_type": "code",
      "metadata": {
        "id": "s8O5Reu2mN6v"
      },
      "source": [
        "nx.to_pandas_adjacency(W)"
      ],
      "execution_count": null,
      "outputs": []
    },
    {
      "cell_type": "code",
      "metadata": {
        "id": "MdSEHnaZHHWd"
      },
      "source": [
        "nx.to_pandas_adjacency(D).to_csv(\"matrix.csv\")"
      ],
      "execution_count": null,
      "outputs": []
    },
    {
      "cell_type": "code",
      "metadata": {
        "id": "bmzM66xjnM8_"
      },
      "source": [
        "import pandas as pd\n",
        "\n",
        "matrix = pd.read_csv(\"matrix.csv\",\n",
        "                     index_col=0)"
      ],
      "execution_count": null,
      "outputs": []
    },
    {
      "cell_type": "code",
      "metadata": {
        "id": "vtCFcGXsnU5A"
      },
      "source": [
        "matrix"
      ],
      "execution_count": null,
      "outputs": []
    },
    {
      "cell_type": "code",
      "metadata": {
        "id": "pZIW1p2Sm4sx"
      },
      "source": [
        "D = nx.from_pandas_adjacency(matrix)"
      ],
      "execution_count": null,
      "outputs": []
    },
    {
      "cell_type": "code",
      "metadata": {
        "id": "VzcuP-fDHU-K"
      },
      "source": [
        "nx.to_pandas_edgelist(G)"
      ],
      "execution_count": null,
      "outputs": []
    },
    {
      "cell_type": "code",
      "metadata": {
        "id": "i_uxvMhBHg6_"
      },
      "source": [
        "nx.to_pandas_edgelist(D)"
      ],
      "execution_count": null,
      "outputs": []
    },
    {
      "cell_type": "code",
      "metadata": {
        "id": "MX2r1hByHi1R"
      },
      "source": [
        "nx.to_pandas_edgelist(D).to_csv(\"edge_list.csv\")"
      ],
      "execution_count": null,
      "outputs": []
    },
    {
      "cell_type": "code",
      "metadata": {
        "id": "TPS_3nfVHnOV"
      },
      "source": [
        "E = nx.from_pandas_edgelist(nx.to_pandas_edgelist(D)) # # https://networkx.org/documentation/stable/reference/generated/networkx.convert_matrix.from_pandas_edgelist.html"
      ],
      "execution_count": null,
      "outputs": []
    },
    {
      "cell_type": "code",
      "metadata": {
        "id": "FvjCAq_ZHzf2"
      },
      "source": [
        "nx.draw(E)"
      ],
      "execution_count": null,
      "outputs": []
    },
    {
      "cell_type": "code",
      "metadata": {
        "id": "XHx3Jo9SH3JQ"
      },
      "source": [
        "nx.write_gml(E, \"Networkx.gml\")"
      ],
      "execution_count": null,
      "outputs": []
    },
    {
      "cell_type": "code",
      "metadata": {
        "id": "TpPR6WB9Ifnt"
      },
      "source": [
        "F = nx.read_gml(\"Networkx.gml\")"
      ],
      "execution_count": null,
      "outputs": []
    },
    {
      "cell_type": "code",
      "metadata": {
        "id": "zAc98C-CIvaZ"
      },
      "source": [
        "nx.draw(F)"
      ],
      "execution_count": null,
      "outputs": []
    },
    {
      "cell_type": "markdown",
      "metadata": {
        "id": "BhVxjsE5I_2D"
      },
      "source": [
        "# 한글 폰트를 위한 재설정"
      ]
    },
    {
      "cell_type": "code",
      "metadata": {
        "id": "F_QUUti3Iw2E"
      },
      "source": [
        "K = nx.Graph()"
      ],
      "execution_count": null,
      "outputs": []
    },
    {
      "cell_type": "code",
      "metadata": {
        "id": "EbuEmfIsJEJb"
      },
      "source": [
        "K.add_edges_from(\n",
        "    [\n",
        "     [\"개구리\",\"연못\"],\n",
        "     [\"개구리\",\"우물\"],\n",
        "     [\"나무\",\"물고기\"]\n",
        "    ]\n",
        ")"
      ],
      "execution_count": null,
      "outputs": []
    },
    {
      "cell_type": "code",
      "metadata": {
        "id": "dzwhSVYFJSbu"
      },
      "source": [
        "nx.draw_networkx(K)"
      ],
      "execution_count": null,
      "outputs": []
    },
    {
      "cell_type": "code",
      "metadata": {
        "id": "o-ak4MFrJ9Px"
      },
      "source": [
        "!apt-get update -qq\n",
        "!apt-get install fonts-nanum* -qq"
      ],
      "execution_count": null,
      "outputs": []
    },
    {
      "cell_type": "code",
      "metadata": {
        "id": "9FTtVIVZJsvr"
      },
      "source": [
        "import matplotlib\n",
        "matplotlib.font_manager._rebuild()"
      ],
      "execution_count": null,
      "outputs": []
    },
    {
      "cell_type": "code",
      "metadata": {
        "id": "kwk78cMwKZdp"
      },
      "source": [
        "import networkx as nx\n",
        "from matplotlib import font_manager as fm\n",
        "fm.fontManager.ttflist"
      ],
      "execution_count": null,
      "outputs": []
    },
    {
      "cell_type": "code",
      "metadata": {
        "id": "E3kLlcseKs7I"
      },
      "source": [
        "for font in fm.fontManager.ttflist:\n",
        "  if \"Nanum\" in font.name:\n",
        "    print(font)"
      ],
      "execution_count": null,
      "outputs": []
    },
    {
      "cell_type": "code",
      "metadata": {
        "id": "-Yr_VzTYK18D"
      },
      "source": [
        "[font.name for font in fm.fontManager.ttflist if \"Nanum\" in font.name]"
      ],
      "execution_count": null,
      "outputs": []
    },
    {
      "cell_type": "code",
      "metadata": {
        "id": "aFQycNcdK9zU"
      },
      "source": [
        "K = nx.Graph()"
      ],
      "execution_count": null,
      "outputs": []
    },
    {
      "cell_type": "code",
      "metadata": {
        "id": "1dxpN9O0LFeN"
      },
      "source": [
        "K.add_edges_from(\n",
        "    [\n",
        "     [\"개구리\",\"연못\"],\n",
        "     [\"개구리\",\"우물\"],\n",
        "     [\"나무\",\"물고기\"]\n",
        "    ]\n",
        ")"
      ],
      "execution_count": null,
      "outputs": []
    },
    {
      "cell_type": "code",
      "metadata": {
        "id": "uqYg4HxGLGu5"
      },
      "source": [
        "nx.draw_networkx(K,\n",
        "                 font_family='NanumGothic')"
      ],
      "execution_count": null,
      "outputs": []
    },
    {
      "cell_type": "markdown",
      "metadata": {
        "id": "BuWOUhYkr5l6"
      },
      "source": [
        "# 연습문제\n",
        "\n",
        "* 다음은 networkx의 기본 데이터셋인 Florentine families 네트워크의 구성 내용이다.\n",
        "  * ('Acciaiuoli', 'Medici'),('Medici', 'Barbadori'),('Medici', 'Ridolfi'),('Medici', 'Tornabuoni'),('Medici', 'Albizzi'),('Medici', 'Salviati'),('Castellani', 'Peruzzi'),('Castellani', 'Strozzi'),('Castellani', 'Barbadori'),('Peruzzi', 'Strozzi'),('Peruzzi', 'Bischeri'),('Strozzi', 'Ridolfi'),('Strozzi', 'Bischeri'),('Ridolfi', 'Tornabuoni'),('Tornabuoni', 'Guadagni'),('Albizzi', 'Ginori'),('Albizzi', 'Guadagni'),('Salviati', 'Pazzi'),('Bischeri', 'Guadagni'),('Guadagni', 'Lamberteschi')\n",
        "* 위 내용을 바탕으로 그래프를 구성하고 밀도를 확인/시각화 해 보자\n",
        "* 위 구성을 Edgelist로 확인해 보자\n",
        "* 위 네트워크를 Test.gml으로 저장해 보자\n"
      ]
    }
  ]
}