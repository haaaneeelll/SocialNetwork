{
  "nbformat": 4,
  "nbformat_minor": 0,
  "metadata": {
    "colab": {
      "provenance": []
    },
    "kernelspec": {
      "name": "python3",
      "display_name": "Python 3"
    },
    "language_info": {
      "name": "python"
    }
  },
  "cells": [
    {
      "cell_type": "markdown",
      "metadata": {
        "id": "EjgaikOSgyqj"
      },
      "source": [
        "# 서울대학교 컴퓨테이셔널 방법론 부트캠프 2021\n",
        "## 사회연결망 분석 (Social Network Analysis)\n",
        "https://csssnu.github.io/method-bootcamp-2021/sna.html\n",
        "\n",
        "* 18, November, 2021 (15:00 ~ 18:00)\n",
        "* Gyuho Lee (SNU, hci+d lab. Ph.D Student)"
      ]
    },
    {
      "cell_type": "markdown",
      "metadata": {
        "id": "Ny5Mkfqug0wT"
      },
      "source": [
        "# Dataset"
      ]
    },
    {
      "cell_type": "code",
      "metadata": {
        "id": "zgqyX1uvBW6b"
      },
      "source": [
        "import networkx as nx"
      ],
      "execution_count": null,
      "outputs": []
    },
    {
      "cell_type": "code",
      "metadata": {
        "id": "grYqRPvJBYnE"
      },
      "source": [
        "# 레 미제라블 데이터셋 불러오기\n",
        "G = nx.les_miserables_graph()"
      ],
      "execution_count": null,
      "outputs": []
    },
    {
      "cell_type": "code",
      "metadata": {
        "id": "H0ndX3FTBerp"
      },
      "source": [
        "G.nodes"
      ],
      "execution_count": null,
      "outputs": []
    },
    {
      "cell_type": "code",
      "metadata": {
        "id": "YYkQZVLPBh-E"
      },
      "source": [
        "G.edges"
      ],
      "execution_count": null,
      "outputs": []
    },
    {
      "cell_type": "code",
      "metadata": {
        "id": "C4GB6hN9Ze4r"
      },
      "source": [
        "print(len(G.nodes), len(G.edges))"
      ],
      "execution_count": null,
      "outputs": []
    },
    {
      "cell_type": "code",
      "metadata": {
        "id": "HNvCugVY46KX"
      },
      "source": [
        "nx.to_pandas_edgelist(G)"
      ],
      "execution_count": null,
      "outputs": []
    },
    {
      "cell_type": "markdown",
      "metadata": {
        "id": "m9M0QWi9Btyx"
      },
      "source": [
        "# 핵심 인물 탐색 (Centrality)"
      ]
    },
    {
      "cell_type": "code",
      "metadata": {
        "id": "67o_EYcIBjpR"
      },
      "source": [
        "nx.degree_centrality(G)"
      ],
      "execution_count": null,
      "outputs": []
    },
    {
      "cell_type": "code",
      "metadata": {
        "id": "YyRN8iWsG2RE"
      },
      "source": [
        "d_cen = nx.degree_centrality(G)\n",
        "d_cen['Valjean']"
      ],
      "execution_count": null,
      "outputs": []
    },
    {
      "cell_type": "code",
      "metadata": {
        "id": "BwuiNGhDB2Yf"
      },
      "source": [
        "import pandas as pd"
      ],
      "execution_count": null,
      "outputs": []
    },
    {
      "cell_type": "code",
      "metadata": {
        "id": "UgOggXY1hG_9"
      },
      "source": [
        "pd.DataFrame.from_dict(nx.degree_centrality(G),\n",
        "                       orient='index',\n",
        "                       columns = [\"Centrality\"])"
      ],
      "execution_count": null,
      "outputs": []
    },
    {
      "cell_type": "code",
      "metadata": {
        "id": "8ukV-QeUCfuC"
      },
      "source": [
        "pd.DataFrame.from_dict(nx.degree_centrality(G),\n",
        "                       orient='index',\n",
        "                       columns = [\"Centrality\"])#.sort_values(['Centrality'],ascending=False)"
      ],
      "execution_count": null,
      "outputs": []
    },
    {
      "cell_type": "code",
      "metadata": {
        "id": "vJH5I-C9Cu_C"
      },
      "source": [
        "# 다른 중심성도 확인해 보자\n",
        "pd.DataFrame.from_dict(nx.betweenness_centrality(G),\n",
        "                       orient='index',\n",
        "                       columns = [\"Centrality\"]).sort_values(['Centrality'],ascending=False)"
      ],
      "execution_count": null,
      "outputs": []
    },
    {
      "cell_type": "code",
      "metadata": {
        "id": "ARdrF7exDBWE"
      },
      "source": [
        "# 다른 중심성도 확인해 보자\n",
        "pd.DataFrame.from_dict(nx.closeness_centrality(G),\n",
        "                       orient='index',\n",
        "                       columns = [\"Centrality\"]).sort_values(['Centrality'],ascending=False)"
      ],
      "execution_count": null,
      "outputs": []
    },
    {
      "cell_type": "code",
      "metadata": {
        "id": "ynr2XIrbDMcn"
      },
      "source": [
        "# 다른 중심성도 확인해 보자\n",
        "pd.DataFrame.from_dict(nx.eigenvector_centrality(G),\n",
        "                       orient='index',\n",
        "                       columns = [\"Centrality\"]).sort_values(['Centrality'],ascending=False)"
      ],
      "execution_count": null,
      "outputs": []
    },
    {
      "cell_type": "markdown",
      "metadata": {
        "id": "Hlm1ryoPaamH"
      },
      "source": [
        "# Centrality 비교 / 시각화"
      ]
    },
    {
      "cell_type": "code",
      "metadata": {
        "id": "_SKR5jJeXen-"
      },
      "source": [
        "import plotly.express as px"
      ],
      "execution_count": null,
      "outputs": []
    },
    {
      "cell_type": "code",
      "metadata": {
        "id": "jFXcSlxxWyIi"
      },
      "source": [
        "d_cen = pd.DataFrame.from_dict(nx.degree_centrality(G),\n",
        "                       orient='index',\n",
        "                       columns = [\"Centrality\"])"
      ],
      "execution_count": null,
      "outputs": []
    },
    {
      "cell_type": "code",
      "metadata": {
        "id": "HA5n76rZW_eY"
      },
      "source": [
        "d_cen"
      ],
      "execution_count": null,
      "outputs": []
    },
    {
      "cell_type": "code",
      "metadata": {
        "id": "yCyMxtWjW0Yp"
      },
      "source": [
        "fig = px.bar(d_cen,\n",
        "             x = d_cen.index,\n",
        "             y='Centrality')\n",
        "fig.show()"
      ],
      "execution_count": null,
      "outputs": []
    },
    {
      "cell_type": "code",
      "metadata": {
        "id": "YlaaXFKtYCh5"
      },
      "source": [
        "# 다른 중심성도 확인해 보자\n",
        "c_cen = pd.DataFrame.from_dict(nx.closeness_centrality(G),\n",
        "                       orient='index',\n",
        "                       columns = ['Centrality'])\n",
        "fig = px.bar(c_cen,\n",
        "             x = c_cen.index,\n",
        "             y='Centrality')\n",
        "fig.show()"
      ],
      "execution_count": null,
      "outputs": []
    },
    {
      "cell_type": "markdown",
      "metadata": {
        "id": "FwpFeN4Ndoh5"
      },
      "source": [
        "## 연습문제 : Centrality를 비교해 보자\n",
        "\n",
        "* 지금까지 배웠던 4가지 중심도 척도를 확인하고, 이를 시각화 해 보자"
      ]
    },
    {
      "cell_type": "markdown",
      "metadata": {
        "id": "ZaMcudMgD0Es"
      },
      "source": [
        "# 분석 결과 확인해 보기"
      ]
    },
    {
      "cell_type": "code",
      "metadata": {
        "id": "9SF7OVNNDQaI"
      },
      "source": [
        "nx.draw_networkx(G)"
      ],
      "execution_count": null,
      "outputs": []
    },
    {
      "cell_type": "code",
      "metadata": {
        "id": "3isxefYkD6WI"
      },
      "source": [
        "import matplotlib.pyplot as plt"
      ],
      "execution_count": null,
      "outputs": []
    },
    {
      "cell_type": "code",
      "metadata": {
        "id": "2mJOZflQEFoD"
      },
      "source": [
        "plt.figure(figsize=(15,15))\n",
        "nx.draw_networkx(G)\n",
        "plt.show()"
      ],
      "execution_count": null,
      "outputs": []
    },
    {
      "cell_type": "code",
      "metadata": {
        "id": "RHvcYyOZEKTY"
      },
      "source": [
        "position = nx.kamada_kawai_layout(G)"
      ],
      "execution_count": null,
      "outputs": []
    },
    {
      "cell_type": "code",
      "metadata": {
        "id": "2IMDMKaZER40"
      },
      "source": [
        "plt.figure(figsize=(15,15))\n",
        "nx.draw_networkx(G,\n",
        "                 pos = position)\n",
        "plt.show()"
      ],
      "execution_count": null,
      "outputs": []
    },
    {
      "cell_type": "code",
      "metadata": {
        "id": "cZriZw42erGN"
      },
      "source": [
        "main = ['Valjean', 'Gavroche', 'Marius', 'Javert', 'Thenardier']\n",
        "\n",
        "plt.figure(figsize=(15,15))\n",
        "nx.draw_networkx(G,\n",
        "                 pos = nx.kamada_kawai_layout(G),\n",
        "                 nodelist = main)\n",
        "plt.show()"
      ],
      "execution_count": null,
      "outputs": []
    },
    {
      "cell_type": "code",
      "metadata": {
        "id": "jQA61VroesrQ"
      },
      "source": [
        "plt.figure(figsize=(15,15))\n",
        "nx.draw_networkx(G,\n",
        "                 pos = position,\n",
        "                 node_color = \"red\",\n",
        "                 edge_color = \"#e0e0eb\",\n",
        "                 font_color = \"#344ceb\")\n",
        "plt.show()"
      ],
      "execution_count": null,
      "outputs": []
    },
    {
      "cell_type": "markdown",
      "metadata": {
        "id": "g3F9gZj8fhVk"
      },
      "source": [
        "## 연습문제\n",
        "\n",
        "* Networkx에서 제공하는 KarateClub 데이터를 불러온 후, Centrality 분석과 시각화를 수행해 보자\n",
        "  * https://en.wikipedia.org/wiki/Zachary%27s_karate_club\n",
        "* 시각화 과정에서 draw_networkx 함수 옵션을 참조하면 좋다 (https://networkx.org/documentation/stable/reference/generated/networkx.drawing.nx_pylab.draw_networkx.html#)"
      ]
    },
    {
      "cell_type": "code",
      "metadata": {
        "id": "Mf98kvGIW831"
      },
      "source": [
        "K = nx.karate_club_graph()"
      ],
      "execution_count": null,
      "outputs": []
    }
  ]
}